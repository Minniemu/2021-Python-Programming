{
 "cells": [
  {
   "cell_type": "code",
   "execution_count": 10,
   "metadata": {},
   "outputs": [
    {
     "name": "stdout",
     "output_type": "stream",
     "text": [
      "Password =  ['5', '0', '3', '9']\n",
      "input a 4-digit number: 5349\n",
      "第1回合，2A1B\n",
      "input a 4-digit number: 5139\n",
      "第2回合，3A0B\n",
      "input a 4-digit number: 3490\n",
      "第3回合，0A3B\n",
      "input a 4-digit number: 5039\n",
      "第4回合，4A0B\n",
      "答對了！\n",
      "你總共猜了4次。\n"
     ]
    }
   ],
   "source": [
    "import random\n",
    "# 請勿修改除了標有TODO以外的任何程式碼，並讓這份程式能夠正確執行。\n",
    "\n",
    "class C_guess():\n",
    "    def __init__(self, digit = 4):\n",
    "        # 請勿修改除了標有TODO以外的任何程式碼，並讓這份程式能夠正確執行。\n",
    "        self.digit = digit\n",
    "        self.password = random.sample([str(i) for i in range(10)], digit)\n",
    "        self.step = 0\n",
    "        #print(\"Password = \",self.password)\n",
    "\n",
    "    def play(self):\n",
    "        # 請勿修改除了標有TODO以外的任何程式碼，並讓這份程式能夠正確執行。\n",
    "        correct = False\n",
    "        while not correct:\n",
    "            inp = input(\"input a {}-digit number: \".format(self.digit))\n",
    "\n",
    "            if not self.checkValid(inp):    # 輸入不合法\n",
    "                continue    # 回到while-loop的開始，重新輸入\n",
    "            correct = self.guess(inp)       # 猜inp，如果猜到correct會變True，否則False\n",
    "            \n",
    "            \n",
    "        print(\"答對了！\")\n",
    "        print(\"你總共猜了{}次。\".format(self.step))\n",
    "\n",
    "    def checkValid(self, inp):\n",
    "        # TODO: Finish the logic here.\n",
    "        # 假如inp不全是數字或inp的長度不符，印出error message並return False表示不合法\n",
    "        # 否則return True表示合法\n",
    "        if len(inp) != self.digit:\n",
    "            return False\n",
    "        elif not str.isdigit(inp):\n",
    "            return False\n",
    "        else:\n",
    "            return True\n",
    "\n",
    "    def guess(self, inp):\n",
    "        # TODO: Finish the logic here.\n",
    "        # inp已經確定合法，判斷inp是幾A幾B並印出玩家回合數及猜的是幾A幾B\n",
    "        # 假如A的數量等於self.digit，則return True代表猜對了\n",
    "        # 否則return False代表猜錯了\n",
    "        self.step += 1\n",
    "        X = 0\n",
    "        Y = 0\n",
    "        for i in range(len(inp)):\n",
    "            if inp[i] == self.password[i]:\n",
    "                X += 1\n",
    "            else:\n",
    "                for j in range(len(inp)):\n",
    "                    if inp[i] == self.password[j]:\n",
    "                        Y += 1\n",
    "        result = str(X)+\"A\"+str(Y)+\"B\"\n",
    "        print(\"第{0}回合，{1}\".format(self.step,result),)\n",
    "        \n",
    "        if X==self.digit:\n",
    "            return True\n",
    "        else:\n",
    "            return False\n",
    "\n",
    "if __name__ == \"__main__\":\n",
    "    # 請勿修改除了標有TODO以外的任何程式碼，並讓這份程式能夠正確執行。\n",
    "    game = C_guess()\n",
    "    game.play()\n",
    "\n",
    "    "
   ]
  }
 ],
 "metadata": {
  "kernelspec": {
   "display_name": "Python 3",
   "language": "python",
   "name": "python3"
  },
  "language_info": {
   "codemirror_mode": {
    "name": "ipython",
    "version": 3
   },
   "file_extension": ".py",
   "mimetype": "text/x-python",
   "name": "python",
   "nbconvert_exporter": "python",
   "pygments_lexer": "ipython3",
   "version": "3.6.9"
  }
 },
 "nbformat": 4,
 "nbformat_minor": 2
}
