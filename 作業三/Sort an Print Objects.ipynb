{
 "cells": [
  {
   "cell_type": "code",
   "execution_count": 19,
   "metadata": {},
   "outputs": [
    {
     "name": "stdout",
     "output_type": "stream",
     "text": [
      "[Eric, June, Mary, Jupiter, Jack]\n"
     ]
    }
   ],
   "source": [
    "class student:\n",
    "    def __init__(self, name, grade):\n",
    "        self.name = name\n",
    "        self.grade = grade\n",
    "    # finish the logic in the class\n",
    "    def __repr__(self):\n",
    "        return self.name\n",
    "            \n",
    "    def __lt__(self,another_student):\n",
    "        return self.grade < another_student.grade\n",
    "\n",
    "AList = [student(\"Mary\", 80), student(\"Jack\", 66), student(\"Eric\", 93), student(\"June\", 86), student(\"Jupiter\", 79)]\n",
    "AList.sort(reverse=True)\n",
    "print(AList)"
   ]
  },
  {
   "cell_type": "code",
   "execution_count": 16,
   "metadata": {},
   "outputs": [
    {
     "name": "stdout",
     "output_type": "stream",
     "text": [
      "404\n",
      "[<__main__.student object at 0x7fa1d8355898>, <__main__.student object at 0x7fa1d8355a90>, <__main__.student object at 0x7fa1d8355ac8>, <__main__.student object at 0x7fa1d8355b00>, <__main__.student object at 0x7fa1d83559b0>]\n"
     ]
    }
   ],
   "source": [
    "class student:\n",
    "    def __init__(self, name, grade):\n",
    "        self.name = name\n",
    "        self.grade = grade\n",
    "    # finish the logic in the class\n",
    "    def __add__(self,other):\n",
    "        return self.grade + other\n",
    "            \n",
    "    def __le__(self,another_student):\n",
    "        return self.__grade <= another_student.__grade\n",
    "\n",
    "AList = [student(\"Mary\", 80), student(\"Jack\", 66), student(\"Eric\", 93), student(\"June\", 86), student(\"Jupiter\", 79)]\n",
    "sum = 0\n",
    "for a in AList:\n",
    "    sum = a + sum\n",
    "print(sum)\n",
    "#AList.sort(reverse=True)\t# from high to low\n",
    "print(AList)"
   ]
  }
 ],
 "metadata": {
  "kernelspec": {
   "display_name": "Python 3",
   "language": "python",
   "name": "python3"
  },
  "language_info": {
   "codemirror_mode": {
    "name": "ipython",
    "version": 3
   },
   "file_extension": ".py",
   "mimetype": "text/x-python",
   "name": "python",
   "nbconvert_exporter": "python",
   "pygments_lexer": "ipython3",
   "version": "3.6.9"
  }
 },
 "nbformat": 4,
 "nbformat_minor": 2
}
