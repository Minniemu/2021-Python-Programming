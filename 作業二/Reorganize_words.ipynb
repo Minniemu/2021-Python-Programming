{
 "cells": [
  {
   "cell_type": "code",
   "execution_count": 12,
   "metadata": {},
   "outputs": [],
   "source": [
    "\n",
    "def standardize(s):\n",
    "    s = s.lower()\n",
    "    s = sorted(s)\n",
    "    return \"\".join(s)\n",
    "\n",
    "    "
   ]
  },
  {
   "cell_type": "code",
   "execution_count": 20,
   "metadata": {},
   "outputs": [
    {
     "name": "stdout",
     "output_type": "stream",
     "text": [
      "Please enter a word. (0 for exit):ladder\n",
      "Please enter a word. (0 for exit):came\n",
      "Please enter a word. (0 for exit):tape\n",
      "Please enter a word. (0 for exit):soon\n",
      "Please enter a word. (0 for exit):leader\n",
      "Please enter a word. (0 for exit):acme\n",
      "Please enter a word. (0 for exit):RIDE\n",
      "Please enter a word. (0 for exit):lone\n",
      "Please enter a word. (0 for exit):Dreis\n",
      "Please enter a word. (0 for exit):peat\n",
      "Please enter a word. (0 for exit):ScALe\n",
      "Please enter a word. (0 for exit):orb\n",
      "Please enter a word. (0 for exit):eye\n",
      "Please enter a word. (0 for exit):Rides\n",
      "Please enter a word. (0 for exit):dealer\n",
      "Please enter a word. (0 for exit):NotE\n",
      "Please enter a word. (0 for exit):derail\n",
      "Please enter a word. (0 for exit):LaCes\n",
      "Please enter a word. (0 for exit):drled\n",
      "Please enter a word. (0 for exit):noel\n",
      "Please enter a word. (0 for exit):dire\n",
      "Please enter a word. (0 for exit):Disk\n",
      "Please enter a word. (0 for exit):mace\n",
      "Please enter a word. (0 for exit):Rob\n",
      "Please enter a word. (0 for exit):dries\n",
      "Please enter a word. (0 for exit):0\n",
      "{'addelr': 1, 'acem': 3, 'aept': 2, 'noos': 1, 'adeelr': 2, 'deir': 2, 'elno': 2, 'deirs': 3, 'acels': 2, 'bor': 2, 'eey': 1, 'enot': 1, 'adeilr': 1, 'ddelr': 1, 'diks': 1}\n",
      "Output =  ['ladder', 'soon', 'eye', 'NotE', 'derail', 'drled', 'Disk']\n"
     ]
    }
   ],
   "source": [
    "list_A = []\n",
    "dict_D = {}\n",
    "B = []\n",
    "while True:\n",
    "    n = input(\"Please enter a word. (0 for exit):\")\n",
    "    if n == '0':\n",
    "        break\n",
    "    list_A.append(n)\n",
    "    std_str = standardize(n)\n",
    "    if std_str not in dict_D:\n",
    "        dict_D[std_str] = 1\n",
    "    else:\n",
    "        dict_D[std_str] += 1\n",
    "#print(dict_D)\n",
    "for w in list_A:\n",
    "    if dict_D[standardize(w)] == 1:\n",
    "        B.append(w)\n",
    "print(\"Output = \",B)"
   ]
  }
 ],
 "metadata": {
  "kernelspec": {
   "display_name": "Python 3",
   "language": "python",
   "name": "python3"
  },
  "language_info": {
   "codemirror_mode": {
    "name": "ipython",
    "version": 3
   },
   "file_extension": ".py",
   "mimetype": "text/x-python",
   "name": "python",
   "nbconvert_exporter": "python",
   "pygments_lexer": "ipython3",
   "version": "3.6.9"
  }
 },
 "nbformat": 4,
 "nbformat_minor": 2
}
